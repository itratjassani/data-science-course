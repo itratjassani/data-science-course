{
 "cells": [
  {
   "cell_type": "markdown",
   "id": "6ea32194",
   "metadata": {},
   "source": [
    "# Data Science Tools and Ecosystem"
   ]
  },
  {
   "cell_type": "markdown",
   "id": "8caf764c",
   "metadata": {},
   "source": [
    "In this notebook, Data science Tools and Ecosystem are summarized."
   ]
  },
  {
   "cell_type": "markdown",
   "id": "dd048553",
   "metadata": {},
   "source": [
    "**Objective**\n",
    "* Popular languages used by Data Scientist\n",
    "* Popular libraries used by Data Scientist\n",
    "* Popular tools used by Data Scientist\n",
    "* Arithmetic Expressions in Python"
   ]
  },
  {
   "cell_type": "markdown",
   "id": "bc3d505d",
   "metadata": {},
   "source": [
    "Some of the popular languages that Data Scientist use are: \n",
    "1. PHYTON\n",
    "2. R\n",
    "3. SQL\n",
    "4. MATLAB\n",
    "5. C++"
   ]
  },
  {
   "cell_type": "markdown",
   "id": "7e71b689",
   "metadata": {},
   "source": [
    "Some of the commonly used libraries used by Data Scientists includes:\n",
    "1. NumPy\n",
    "2. Pandas\n",
    "3. SciKit-Learn\n",
    "4. Matplotlib\n",
    "5. TensorFlow"
   ]
  },
  {
   "cell_type": "markdown",
   "id": "39bb25a2",
   "metadata": {},
   "source": [
    "|Data Science Tools|\n",
    "|----------------|\n",
    "|Jupyter Notebook|\n",
    "|Jupyter Lab|\n",
    "|Pycharm|\n"
   ]
  },
  {
   "cell_type": "markdown",
   "id": "38124c72",
   "metadata": {},
   "source": [
    "### Below are a few example of evaluating arithmetic expression examples\n"
   ]
  },
  {
   "cell_type": "code",
   "execution_count": 4,
   "id": "d57c947b",
   "metadata": {},
   "outputs": [
    {
     "data": {
      "text/plain": [
       "17"
      ]
     },
     "execution_count": 4,
     "metadata": {},
     "output_type": "execute_result"
    }
   ],
   "source": [
    "# This a simple arithmetic expression to multiply then add intrgers.\n",
    "(3*4)+5"
   ]
  },
  {
   "cell_type": "code",
   "execution_count": 5,
   "id": "3e41558b",
   "metadata": {},
   "outputs": [
    {
     "data": {
      "text/plain": [
       "3.3333333333333335"
      ]
     },
     "execution_count": 5,
     "metadata": {},
     "output_type": "execute_result"
    }
   ],
   "source": [
    "# This will convert 200 minutes to hours by dividing by 60\n",
    "hours = 200/60\n",
    "hours"
   ]
  },
  {
   "cell_type": "markdown",
   "id": "e20d9d69",
   "metadata": {},
   "source": [
    "## Author\n",
    "Itrat Zehra Jassani"
   ]
  }
 ],
 "metadata": {
  "kernelspec": {
   "display_name": "Python 3 (ipykernel)",
   "language": "python",
   "name": "python3"
  },
  "language_info": {
   "codemirror_mode": {
    "name": "ipython",
    "version": 3
   },
   "file_extension": ".py",
   "mimetype": "text/x-python",
   "name": "python",
   "nbconvert_exporter": "python",
   "pygments_lexer": "ipython3",
   "version": "3.9.7"
  }
 },
 "nbformat": 4,
 "nbformat_minor": 5
}
